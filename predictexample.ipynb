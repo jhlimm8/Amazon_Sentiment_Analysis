{
 "cells": [
  {
   "cell_type": "code",
   "execution_count": null,
   "metadata": {},
   "outputs": [],
   "source": [
    "exampletext = 'taylor swift is truly the greatest artist of our generation!!!!'\n",
    "\n",
    "prep_exampletext = tfidf.transform((([Lemmatizer(Stemmer(Tokenizer(exampletext)))])))\n",
    "\n",
    "print(prep_exampletext)\n",
    "print(best_mnbc_model_test.predict((prep_exampletext)))"
   ]
  }
 ],
 "metadata": {
  "kernelspec": {
   "display_name": "Python 3",
   "language": "python",
   "name": "python3"
  },
  "language_info": {
   "codemirror_mode": {
    "name": "ipython",
    "version": 3
   },
   "file_extension": ".py",
   "mimetype": "text/x-python",
   "name": "python",
   "nbconvert_exporter": "python",
   "pygments_lexer": "ipython3",
   "version": "3.10.2"
  },
  "orig_nbformat": 4,
  "vscode": {
   "interpreter": {
    "hash": "e931440daf265310271cf89cfe1af759d643d821faecb178d738c469ab97d2c5"
   }
  }
 },
 "nbformat": 4,
 "nbformat_minor": 2
}
